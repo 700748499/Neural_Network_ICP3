{
 "cells": [
  {
   "cell_type": "code",
   "execution_count": 24,
   "id": "cf24d003",
   "metadata": {},
   "outputs": [
    {
     "name": "stdout",
     "output_type": "stream",
     "text": [
      "Year end bonus is provided for full time employees.\n",
      "Average salary: 5375.162\n"
     ]
    }
   ],
   "source": [
    "class Employee:\n",
    "    emp_count = 0\n",
    "    def __init__(self,name,family,salary,department):\n",
    "        self.Name = name\n",
    "        self.Family = family\n",
    "        self.Salary = salary\n",
    "        self.Department = department\n",
    "        Employee.emp_count += 1\n",
    "    def average_salary(employees):\n",
    "        sum = 0\n",
    "        for employee in employees:\n",
    "            sum += employee.Salary\n",
    "        return sum / Employee.emp_count\n",
    "    \n",
    "class FulltimeEmployee(Employee):\n",
    "\n",
    "    def __init__(self, name, family, salary, department):\n",
    "        super().__init__(name, family, salary, department)\n",
    "\n",
    "    def year_end_bonus(self):\n",
    "        print(\"Year end bonus is provided for full time employees.\")\n",
    "\n",
    "def main():\n",
    "    employees = []\n",
    "    e1 = FulltimeEmployee(\"Bob\", \"william\", 6000, \"CS\")\n",
    "    e2 = FulltimeEmployee(\"Mary\", \"Thomas\", 8529.486, \"IT\")\n",
    "    e3 = FulltimeEmployee(\"Harry\", \"Potter\", 1596, \"Management\")\n",
    "    \n",
    "    e1.year_end_bonus()\n",
    "    employees.append(e1)\n",
    "    employees.append(e2)\n",
    "    employees.append(e3)\n",
    "    print(\"Average salary:\", FulltimeEmployee.average_salary(employees))\n",
    "\n",
    "\n",
    "if __name__ == \"__main__\":\n",
    "    main()"
   ]
  },
  {
   "cell_type": "markdown",
   "id": "c13c2708",
   "metadata": {},
   "source": [
    "Created a class named Employee and created a data member named emp_count to count the number of employees. Constuctor has been created to initialize parameters. average_salary funtion is created and employees list is passed as an argument to calculate average salary. Full_Time_Employee class has been created that extends the properties of Employee class. average_salary function is called by creating the object for Full_Time_Employee class."
   ]
  },
  {
   "cell_type": "code",
   "execution_count": 30,
   "id": "cd73f62b",
   "metadata": {},
   "outputs": [
    {
     "name": "stdout",
     "output_type": "stream",
     "text": [
      "[12.29273843 19.14352549 17.24211103 14.10520718  6.54700755 13.35664542\n",
      "  8.02423485 15.36756527  7.02907949 14.28574225  3.16548157 18.12041389\n",
      " 14.03169892  2.43636636  7.62944501  7.61706842 15.94473712 15.92060213\n",
      " 15.5436494   3.0608058 ]\n",
      "Array : [12.29273843 19.14352549 17.24211103 14.10520718  6.54700755 13.35664542\n",
      "  8.02423485 15.36756527  7.02907949 14.28574225  3.16548157 18.12041389\n",
      " 14.03169892  2.43636636  7.62944501  7.61706842 15.94473712 15.92060213\n",
      " 15.5436494   3.0608058 ]\n",
      "First Reshaped Array 4 x 5 : \n",
      "[[12.29273843 19.14352549 17.24211103 14.10520718  6.54700755]\n",
      " [13.35664542  8.02423485 15.36756527  7.02907949 14.28574225]\n",
      " [ 3.16548157 18.12041389 14.03169892  2.43636636  7.62944501]\n",
      " [ 7.61706842 15.94473712 15.92060213 15.5436494   3.0608058 ]]\n",
      "[[12.29273843  0.         17.24211103 14.10520718  6.54700755]\n",
      " [13.35664542  8.02423485  0.          7.02907949 14.28574225]\n",
      " [ 3.16548157  0.         14.03169892  2.43636636  7.62944501]\n",
      " [ 7.61706842  0.         15.92060213 15.5436494   3.0608058 ]]\n"
     ]
    }
   ],
   "source": [
    "# importing numpy\n",
    "import numpy as np\n",
    "a = np.random.uniform(1,20,20)\n",
    "print(a)\n",
    "\n",
    "array = a;\n",
    "print(\"Array : \" + str(array))\n",
    "n = array.size\n",
    "\n",
    "N = 4\n",
    "M = n//N\n",
    "\n",
    "# reshaping numpy array\n",
    "# converting it to 2-D from 1-D array\n",
    "reshaped = array.reshape((N, M))\n",
    "\n",
    "# printing reshaped array\n",
    "print(\"First Reshaped Array 4 x 5 : \")\n",
    "print(reshaped)\n",
    "\n",
    "a = reshaped\n",
    "b = a\n",
    "b[np.arange(len(a)), a.argmax(1)] = 0\n",
    "print(b)"
   ]
  },
  {
   "cell_type": "markdown",
   "id": "f9c9f442",
   "metadata": {},
   "source": [
    "Imported numpy library and A vector has been created with random values of size 20 with range between 1 to 20. Array is reshaped to size of rows and columns of 4 and 5 using reshape method. Maximum element of each row of array is replaced with zero."
   ]
  }
 ],
 "metadata": {
  "kernelspec": {
   "display_name": "Python 3 (ipykernel)",
   "language": "python",
   "name": "python3"
  },
  "language_info": {
   "codemirror_mode": {
    "name": "ipython",
    "version": 3
   },
   "file_extension": ".py",
   "mimetype": "text/x-python",
   "name": "python",
   "nbconvert_exporter": "python",
   "pygments_lexer": "ipython3",
   "version": "3.9.13"
  }
 },
 "nbformat": 4,
 "nbformat_minor": 5
}
